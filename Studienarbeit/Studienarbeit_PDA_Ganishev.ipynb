{
 "cells": [
  {
   "cell_type": "markdown",
   "metadata": {},
   "source": [
    "# Analyse der US-Präsidentschaftswahl 2016"
   ]
  },
  {
   "cell_type": "markdown",
   "metadata": {},
   "source": [
    "Stellen wir uns vor, wir arbeiten als Datenwissenschaftler für eine kleine innovative Agentur. Es ist der 8. November 2016, bekommt am Nachmittag man  Medienberichte über erste Einschätzungen zu den Präsidentschaftswahlen in den USA. Ihre Agentur erhielt mehrere Aufträge von:\n",
    "1. Trey Parker und Matt Stone. Sie haben ein Drehbuch für eine neue Serie von South Park zu schreiben (http://bit.ly/2eNrI1C).\n",
    "2. François Hollande, der eine Gratulation für die neue Präsidentin bzw. den neuen Präsidenten vorbereiten muss (http://bit.ly/2feEfvv).\n",
    "\n",
    "Der Chef gibt Ihnen die Aufgabe, ein Vorhersagemodell zu entwickeln und auch den wichtigsten Faktor in Landkreisen zu analysieren, in denen Donald Trump gewonnen hat. "
   ]
  },
  {
   "cell_type": "markdown",
   "metadata": {},
   "source": [
    "Es stehen 3 Datensätze zur Verfügung: county_facts.csv (Eingabevariablen), county_facts_dictionary.csv (eine Erklärung der Eingabevariablen) und pres16results.csv (Zielvariablen).\n",
    "Schauen wir uns zunächst den dritten Datensatz an."
   ]
  },
  {
   "cell_type": "markdown",
   "metadata": {},
   "source": [
    "Importieren wir alle Bibliotheken, die wir dafür benötigen: pandas für Datenmanipulation und numpy für Array-Manipulation."
   ]
  },
  {
   "cell_type": "code",
   "execution_count": 69,
   "metadata": {
    "collapsed": true
   },
   "outputs": [],
   "source": [
    "import pandas as pd\n",
    "import numpy as np"
   ]
  },
  {
   "cell_type": "markdown",
   "metadata": {},
   "source": [
    "Wir importieren unseren Datensatz und drucken 10 erste Zeilen davon aus:"
   ]
  },
  {
   "cell_type": "code",
   "execution_count": 122,
   "metadata": {},
   "outputs": [
    {
     "name": "stdout",
     "output_type": "stream",
     "text": [
      "  county fips             cand  st  pct_report       votes  total_votes  \\\n",
      "0    NaN   US     Donald Trump  US      0.9951  60350241.0  127592176.0   \n",
      "1    NaN   US  Hillary Clinton  US      0.9951  60981118.0  127592176.0   \n",
      "2    NaN   US     Gary Johnson  US      0.9951   4164589.0  127592176.0   \n",
      "3    NaN   US       Jill Stein  US      0.9951   1255968.0  127592176.0   \n",
      "4    NaN   US    Evan McMullin  US      0.9951    451636.0  127592176.0   \n",
      "\n",
      "        pct          lead  \n",
      "0  0.472993  Donald Trump  \n",
      "1  0.477938  Donald Trump  \n",
      "2  0.032640  Donald Trump  \n",
      "3  0.009844  Donald Trump  \n",
      "4  0.003540  Donald Trump  \n"
     ]
    }
   ],
   "source": [
    "pres_results_dirty = pd.read_csv(\"2016-us-election/pres16results.csv\")\n",
    "print(pres_results_dirty.head())"
   ]
  },
  {
   "cell_type": "markdown",
   "metadata": {},
   "source": [
    "Der erhaltene Dataframe ist für unsere Aufgabe ungeeignet: \n",
    "1. Er hat viele Spalten mit unnötigen (total_votes) und/oder redundanten (fips -> county + st) Informationen.\n",
    "2. Die Zeilen zeigen das Ergebnis jedes Kandidaten in jedem Landkreis, Staat und in ganzem Land. Das ist keine passende Instanz für unsere Aufgabe, wir brauchen nur Lead-Kandidat in jedem Landkreis.\n",
    "3. Wir planen, fips-Wert als Index zu verwenden, aber es nimmt einige nicht-numerische Werte. Deshalb hat es einen Objekttyp (komplexer Typ\n",
    ")\n",
    "4. Es scheint auch, dass es eine Anzahl leerer Zellen gibt (NaN, 'not a number').\n",
    "\n",
    "Werfen wir einen Blick auf eine Anzahl von NaN-Zellen:"
   ]
  },
  {
   "cell_type": "code",
   "execution_count": 123,
   "metadata": {},
   "outputs": [
    {
     "name": "stdout",
     "output_type": "stream",
     "text": [
      "<class 'pandas.core.frame.DataFrame'>\n",
      "RangeIndex: 18475 entries, 0 to 18474\n",
      "Data columns (total 9 columns):\n",
      "county         18131 non-null object\n",
      "fips           18475 non-null object\n",
      "cand           18351 non-null object\n",
      "st             18351 non-null object\n",
      "pct_report     18351 non-null float64\n",
      "votes          18351 non-null float64\n",
      "total_votes    18351 non-null float64\n",
      "pct            18351 non-null float64\n",
      "lead           18351 non-null object\n",
      "dtypes: float64(4), object(5)\n",
      "memory usage: 1.3+ MB\n",
      "None\n"
     ]
    }
   ],
   "source": [
    "print(pres_results_dirty.info())"
   ]
  },
  {
   "cell_type": "markdown",
   "metadata": {},
   "source": [
    "Lass uns zuerst unnötige Spalten loswerden:"
   ]
  },
  {
   "cell_type": "code",
   "execution_count": 124,
   "metadata": {
    "collapsed": true
   },
   "outputs": [],
   "source": [
    "pres_results_clean = pres_results_dirty.drop([\"county\", \"cand\",\n",
    "                                              \"st\", \"pct_report\", \"votes\",\n",
    "                                              \"total_votes\", \"pct\"],\n",
    "                                             axis = 1)"
   ]
  },
  {
   "cell_type": "markdown",
   "metadata": {},
   "source": [
    "Wir können einfach alle nichtnumerischen Werte von fips verwerfen. Sie bleiben entweder für einen Staat oder für das ganze Land."
   ]
  },
  {
   "cell_type": "code",
   "execution_count": 125,
   "metadata": {
    "collapsed": true
   },
   "outputs": [],
   "source": [
    "pres_results_clean = pres_results_clean[pres_results_clean.fips.apply\n",
    "                                        (lambda x: x.isnumeric())]"
   ]
  },
  {
   "cell_type": "markdown",
   "metadata": {},
   "source": [
    "fips-Spalte enthält einige doppelte Werte.  Und wir wollen keine Duplikate im Index des Dateframes."
   ]
  },
  {
   "cell_type": "code",
   "execution_count": 126,
   "metadata": {
    "collapsed": true
   },
   "outputs": [],
   "source": [
    "pres_results = pres_results_clean.drop_duplicates(subset='fips',\n",
    "                                                  keep='last')"
   ]
  },
  {
   "cell_type": "markdown",
   "metadata": {},
   "source": [
    "Konvertieren wir unsere fips-Spalte in Int:"
   ]
  },
  {
   "cell_type": "code",
   "execution_count": 131,
   "metadata": {},
   "outputs": [
    {
     "name": "stdout",
     "output_type": "stream",
     "text": [
      "<class 'pandas.core.frame.DataFrame'>\n",
      "Int64Index: 3237 entries, 163 to 18474\n",
      "Data columns (total 2 columns):\n",
      "fips    3237 non-null int64\n",
      "lead    3113 non-null object\n",
      "dtypes: int64(1), object(1)\n",
      "memory usage: 75.9+ KB\n",
      "None\n"
     ]
    }
   ],
   "source": [
    "pres_results['fips'] = pres_results['fips'].apply(pd.to_numeric,\n",
    "                                                  errors='coerce')\n",
    "\n",
    "print(pres_results.info())"
   ]
  },
  {
   "cell_type": "markdown",
   "metadata": {},
   "source": [
    "fips-Spalte enthält jetzt nur noch Integer-Werte, deshalb können wir sie als Index setzen:"
   ]
  },
  {
   "cell_type": "code",
   "execution_count": 83,
   "metadata": {
    "collapsed": true
   },
   "outputs": [],
   "source": [
    "pres_results.set_index('fips', inplace=True)"
   ]
  },
  {
   "cell_type": "markdown",
   "metadata": {},
   "source": [
    "Unser Frame ist fast sauber, lass ihn sehen:"
   ]
  },
  {
   "cell_type": "code",
   "execution_count": 84,
   "metadata": {},
   "outputs": [
    {
     "name": "stdout",
     "output_type": "stream",
     "text": [
      "                  lead\n",
      "fips                  \n",
      "6037   Hillary Clinton\n",
      "17031  Hillary Clinton\n",
      "48201  Hillary Clinton\n",
      "4013      Donald Trump\n",
      "12086  Hillary Clinton\n"
     ]
    }
   ],
   "source": [
    "print(pres_results.head())"
   ]
  },
  {
   "cell_type": "code",
   "execution_count": 85,
   "metadata": {},
   "outputs": [
    {
     "name": "stdout",
     "output_type": "stream",
     "text": [
      "<class 'pandas.core.frame.DataFrame'>\n",
      "Int64Index: 3237 entries, 6037 to 78030\n",
      "Data columns (total 1 columns):\n",
      "lead    3113 non-null object\n",
      "dtypes: object(1)\n",
      "memory usage: 50.6+ KB\n",
      "None\n"
     ]
    }
   ],
   "source": [
    "print(pres_results.info())"
   ]
  },
  {
   "cell_type": "markdown",
   "metadata": {},
   "source": [
    "Hm... Wir haben einige unbekannte Werte in der' lead'-Spalte. Vielleicht sind Berichte über diese Landkreise noch nicht vorbereitet. Also sei es die Aufgabe für unser Vorhersagemodell, wir müssen diese Daten in einem anderen Frame trennen:"
   ]
  },
  {
   "cell_type": "code",
   "execution_count": 86,
   "metadata": {},
   "outputs": [
    {
     "name": "stdout",
     "output_type": "stream",
     "text": [
      "<class 'pandas.core.frame.DataFrame'>\n",
      "Int64Index: 124 entries, 2013 to 78030\n",
      "Data columns (total 1 columns):\n",
      "lead    0 non-null object\n",
      "dtypes: object(1)\n",
      "memory usage: 1.9+ KB\n",
      "None\n"
     ]
    }
   ],
   "source": [
    "pres_results_unknown = pres_results[pres_results[\"lead\"].isnull()]\n",
    "print(pres_results_unknown.info())"
   ]
  },
  {
   "cell_type": "markdown",
   "metadata": {},
   "source": [
    "Jetzt können wir die unbekannten Daten mit gutem Gewissen löschen:"
   ]
  },
  {
   "cell_type": "code",
   "execution_count": 132,
   "metadata": {},
   "outputs": [],
   "source": [
    "pres_results.dropna(how='any', inplace=True)"
   ]
  },
  {
   "cell_type": "markdown",
   "metadata": {},
   "source": [
    "Jetzt wenden wir uns dem Klassifizierungsproblem zu: alle Landkreise, in denen Trump gewonnen hat, gehören zur Klasse 1, alle anderen - zu 0. Diese Werte speichern wir in einer Spalte 'trump_won'. In der Spalte 'Lead' gibt es keine Notwendigkeit mehr."
   ]
  },
  {
   "cell_type": "code",
   "execution_count": 133,
   "metadata": {},
   "outputs": [],
   "source": [
    "pres_results['trump_won'] = [int(row['lead'] == 'Donald Trump')\n",
    "                             for index, row in pres_results.iterrows()]\n",
    "pres_results.drop('lead', axis = 1, inplace=True)"
   ]
  },
  {
   "cell_type": "code",
   "execution_count": 89,
   "metadata": {},
   "outputs": [
    {
     "name": "stdout",
     "output_type": "stream",
     "text": [
      "<class 'pandas.core.frame.DataFrame'>\n",
      "Int64Index: 3113 entries, 6037 to 48301\n",
      "Data columns (total 1 columns):\n",
      "trump_won    3113 non-null int64\n",
      "dtypes: int64(1)\n",
      "memory usage: 48.6 KB\n",
      "None\n"
     ]
    }
   ],
   "source": [
    "print(pres_results.info())"
   ]
  },
  {
   "cell_type": "markdown",
   "metadata": {},
   "source": [
    "Unser Frame ist endlich sauber."
   ]
  },
  {
   "cell_type": "markdown",
   "metadata": {
    "collapsed": true
   },
   "source": [
    "Überprüfen wir den 1. Datensatz:"
   ]
  },
  {
   "cell_type": "code",
   "execution_count": 90,
   "metadata": {},
   "outputs": [
    {
     "name": "stdout",
     "output_type": "stream",
     "text": [
      "<class 'pandas.core.frame.DataFrame'>\n",
      "RangeIndex: 3195 entries, 0 to 3194\n",
      "Data columns (total 54 columns):\n",
      "fips                  3195 non-null int64\n",
      "area_name             3195 non-null object\n",
      "state_abbreviation    3143 non-null object\n",
      "PST045214             3195 non-null int64\n",
      "PST040210             3195 non-null int64\n",
      "PST120214             3195 non-null float64\n",
      "POP010210             3195 non-null int64\n",
      "AGE135214             3195 non-null float64\n",
      "AGE295214             3195 non-null float64\n",
      "AGE775214             3195 non-null float64\n",
      "SEX255214             3195 non-null float64\n",
      "RHI125214             3195 non-null float64\n",
      "RHI225214             3195 non-null float64\n",
      "RHI325214             3195 non-null float64\n",
      "RHI425214             3195 non-null float64\n",
      "RHI525214             3195 non-null float64\n",
      "RHI625214             3195 non-null float64\n",
      "RHI725214             3195 non-null float64\n",
      "RHI825214             3195 non-null float64\n",
      "POP715213             3195 non-null float64\n",
      "POP645213             3195 non-null float64\n",
      "POP815213             3195 non-null float64\n",
      "EDU635213             3195 non-null float64\n",
      "EDU685213             3195 non-null float64\n",
      "VET605213             3195 non-null int64\n",
      "LFE305213             3195 non-null float64\n",
      "HSG010214             3195 non-null int64\n",
      "HSG445213             3195 non-null float64\n",
      "HSG096213             3195 non-null float64\n",
      "HSG495213             3195 non-null int64\n",
      "HSD410213             3195 non-null int64\n",
      "HSD310213             3195 non-null float64\n",
      "INC910213             3195 non-null int64\n",
      "INC110213             3195 non-null int64\n",
      "PVY020213             3195 non-null float64\n",
      "BZA010213             3195 non-null int64\n",
      "BZA110213             3195 non-null int64\n",
      "BZA115213             3195 non-null float64\n",
      "NES010213             3195 non-null int64\n",
      "SBO001207             3195 non-null int64\n",
      "SBO315207             3195 non-null float64\n",
      "SBO115207             3195 non-null float64\n",
      "SBO215207             3195 non-null float64\n",
      "SBO515207             3195 non-null float64\n",
      "SBO415207             3195 non-null float64\n",
      "SBO015207             3195 non-null float64\n",
      "MAN450207             3195 non-null int64\n",
      "WTN220207             3195 non-null int64\n",
      "RTN130207             3195 non-null int64\n",
      "RTN131207             3195 non-null int64\n",
      "AFN120207             3195 non-null int64\n",
      "BPS030214             3195 non-null int64\n",
      "LND110210             3195 non-null float64\n",
      "POP060210             3195 non-null float64\n",
      "dtypes: float64(32), int64(20), object(2)\n",
      "memory usage: 1.3+ MB\n",
      "None\n"
     ]
    }
   ],
   "source": [
    "county_facts = pd.read_csv(\"2016-us-election/county_facts.csv\")\n",
    "print(county_facts.info())"
   ]
  },
  {
   "cell_type": "markdown",
   "metadata": {},
   "source": [
    "Sieht viel besser aus :) Schmeissen wir unnötige Attributen weg. Wir löschen auch die Zeile mit dem fips-Wert 0 (ganze USA) und setzen die Spalte als Index."
   ]
  },
  {
   "cell_type": "code",
   "execution_count": 91,
   "metadata": {},
   "outputs": [
    {
     "name": "stdout",
     "output_type": "stream",
     "text": [
      "<class 'pandas.core.frame.DataFrame'>\n",
      "Int64Index: 3193 entries, 1001 to 56045\n",
      "Data columns (total 51 columns):\n",
      "PST045214    3193 non-null int64\n",
      "PST040210    3193 non-null int64\n",
      "PST120214    3193 non-null float64\n",
      "POP010210    3193 non-null int64\n",
      "AGE135214    3193 non-null float64\n",
      "AGE295214    3193 non-null float64\n",
      "AGE775214    3193 non-null float64\n",
      "SEX255214    3193 non-null float64\n",
      "RHI125214    3193 non-null float64\n",
      "RHI225214    3193 non-null float64\n",
      "RHI325214    3193 non-null float64\n",
      "RHI425214    3193 non-null float64\n",
      "RHI525214    3193 non-null float64\n",
      "RHI625214    3193 non-null float64\n",
      "RHI725214    3193 non-null float64\n",
      "RHI825214    3193 non-null float64\n",
      "POP715213    3193 non-null float64\n",
      "POP645213    3193 non-null float64\n",
      "POP815213    3193 non-null float64\n",
      "EDU635213    3193 non-null float64\n",
      "EDU685213    3193 non-null float64\n",
      "VET605213    3193 non-null int64\n",
      "LFE305213    3193 non-null float64\n",
      "HSG010214    3193 non-null int64\n",
      "HSG445213    3193 non-null float64\n",
      "HSG096213    3193 non-null float64\n",
      "HSG495213    3193 non-null int64\n",
      "HSD410213    3193 non-null int64\n",
      "HSD310213    3193 non-null float64\n",
      "INC910213    3193 non-null int64\n",
      "INC110213    3193 non-null int64\n",
      "PVY020213    3193 non-null float64\n",
      "BZA010213    3193 non-null int64\n",
      "BZA110213    3193 non-null int64\n",
      "BZA115213    3193 non-null float64\n",
      "NES010213    3193 non-null int64\n",
      "SBO001207    3193 non-null int64\n",
      "SBO315207    3193 non-null float64\n",
      "SBO115207    3193 non-null float64\n",
      "SBO215207    3193 non-null float64\n",
      "SBO515207    3193 non-null float64\n",
      "SBO415207    3193 non-null float64\n",
      "SBO015207    3193 non-null float64\n",
      "MAN450207    3193 non-null int64\n",
      "WTN220207    3193 non-null int64\n",
      "RTN130207    3193 non-null int64\n",
      "RTN131207    3193 non-null int64\n",
      "AFN120207    3193 non-null int64\n",
      "BPS030214    3193 non-null int64\n",
      "LND110210    3193 non-null float64\n",
      "POP060210    3193 non-null float64\n",
      "dtypes: float64(32), int64(19)\n",
      "memory usage: 1.3 MB\n",
      "None\n"
     ]
    }
   ],
   "source": [
    "county_facts_clean = county_facts.drop([\"area_name\", \"state_abbreviation\"],\n",
    "                                       axis = 1)\n",
    "\n",
    "county_facts_clean.drop(county_facts_clean[\"fips\"] == 0, inplace=True)\n",
    "\n",
    "county_facts_clean.set_index(\"fips\", inplace=True)\n",
    "print(county_facts_clean.info())"
   ]
  },
  {
   "cell_type": "markdown",
   "metadata": {},
   "source": [
    "Schauen wir uns diese Daten an:"
   ]
  },
  {
   "cell_type": "code",
   "execution_count": 92,
   "metadata": {},
   "outputs": [
    {
     "name": "stdout",
     "output_type": "stream",
     "text": [
      "      PST045214  PST040210  PST120214  POP010210  AGE135214  AGE295214  \\\n",
      "fips                                                                     \n",
      "1001      55395      54571        1.5      54571        6.0       25.2   \n",
      "1003     200111     182265        9.8     182265        5.6       22.2   \n",
      "1005      26887      27457       -2.1      27457        5.7       21.2   \n",
      "1007      22506      22919       -1.8      22915        5.3       21.0   \n",
      "1009      57719      57322        0.7      57322        6.1       23.6   \n",
      "\n",
      "      AGE775214  SEX255214  RHI125214  RHI225214    ...      SBO415207  \\\n",
      "fips                                                ...                  \n",
      "1001       13.8       51.4       77.9       18.7    ...            0.7   \n",
      "1003       18.7       51.2       87.1        9.6    ...            1.3   \n",
      "1005       16.5       46.6       50.2       47.6    ...            0.0   \n",
      "1007       14.8       45.9       76.3       22.1    ...            0.0   \n",
      "1009       17.0       50.5       96.0        1.8    ...            0.0   \n",
      "\n",
      "      SBO015207  MAN450207  WTN220207  RTN130207  RTN131207  AFN120207  \\\n",
      "fips                                                                     \n",
      "1001       31.7          0          0     598175      12003      88157   \n",
      "1003       27.3    1410273          0    2966489      17166     436955   \n",
      "1005       27.0          0          0     188337       6334          0   \n",
      "1007        0.0          0          0     124707       5804      10757   \n",
      "1009       23.2     341544          0     319700       5622      20941   \n",
      "\n",
      "      BPS030214  LND110210  POP060210  \n",
      "fips                                   \n",
      "1001        131     594.44       91.8  \n",
      "1003       1384    1589.78      114.6  \n",
      "1005          8     884.88       31.0  \n",
      "1007         19     622.58       36.8  \n",
      "1009          3     644.78       88.9  \n",
      "\n",
      "[5 rows x 51 columns]\n"
     ]
    }
   ],
   "source": [
    "print(county_facts_clean.head())"
   ]
  },
  {
   "cell_type": "markdown",
   "metadata": {},
   "source": [
    "Nun müssen wir zwei Dataframes zusammenführen. Wir wählen 'inner', um den Schnitt von Zeilen zu erhalten:"
   ]
  },
  {
   "cell_type": "code",
   "execution_count": 93,
   "metadata": {},
   "outputs": [
    {
     "name": "stdout",
     "output_type": "stream",
     "text": [
      "<class 'pandas.core.frame.DataFrame'>\n",
      "Int64Index: 3112 entries, 1001 to 56045\n",
      "Data columns (total 52 columns):\n",
      "PST045214    3112 non-null int64\n",
      "PST040210    3112 non-null int64\n",
      "PST120214    3112 non-null float64\n",
      "POP010210    3112 non-null int64\n",
      "AGE135214    3112 non-null float64\n",
      "AGE295214    3112 non-null float64\n",
      "AGE775214    3112 non-null float64\n",
      "SEX255214    3112 non-null float64\n",
      "RHI125214    3112 non-null float64\n",
      "RHI225214    3112 non-null float64\n",
      "RHI325214    3112 non-null float64\n",
      "RHI425214    3112 non-null float64\n",
      "RHI525214    3112 non-null float64\n",
      "RHI625214    3112 non-null float64\n",
      "RHI725214    3112 non-null float64\n",
      "RHI825214    3112 non-null float64\n",
      "POP715213    3112 non-null float64\n",
      "POP645213    3112 non-null float64\n",
      "POP815213    3112 non-null float64\n",
      "EDU635213    3112 non-null float64\n",
      "EDU685213    3112 non-null float64\n",
      "VET605213    3112 non-null int64\n",
      "LFE305213    3112 non-null float64\n",
      "HSG010214    3112 non-null int64\n",
      "HSG445213    3112 non-null float64\n",
      "HSG096213    3112 non-null float64\n",
      "HSG495213    3112 non-null int64\n",
      "HSD410213    3112 non-null int64\n",
      "HSD310213    3112 non-null float64\n",
      "INC910213    3112 non-null int64\n",
      "INC110213    3112 non-null int64\n",
      "PVY020213    3112 non-null float64\n",
      "BZA010213    3112 non-null int64\n",
      "BZA110213    3112 non-null int64\n",
      "BZA115213    3112 non-null float64\n",
      "NES010213    3112 non-null int64\n",
      "SBO001207    3112 non-null int64\n",
      "SBO315207    3112 non-null float64\n",
      "SBO115207    3112 non-null float64\n",
      "SBO215207    3112 non-null float64\n",
      "SBO515207    3112 non-null float64\n",
      "SBO415207    3112 non-null float64\n",
      "SBO015207    3112 non-null float64\n",
      "MAN450207    3112 non-null int64\n",
      "WTN220207    3112 non-null int64\n",
      "RTN130207    3112 non-null int64\n",
      "RTN131207    3112 non-null int64\n",
      "AFN120207    3112 non-null int64\n",
      "BPS030214    3112 non-null int64\n",
      "LND110210    3112 non-null float64\n",
      "POP060210    3112 non-null float64\n",
      "trump_won    3112 non-null int64\n",
      "dtypes: float64(32), int64(20)\n",
      "memory usage: 1.3 MB\n",
      "None\n"
     ]
    }
   ],
   "source": [
    "df = pd.merge(county_facts_clean, pres_results, how='inner',\n",
    "              left_index=True, right_index=True)\n",
    "print(df.info())"
   ]
  },
  {
   "cell_type": "markdown",
   "metadata": {
    "collapsed": true
   },
   "source": [
    "Sehen wir uns das Verhältnis der Landkreisen an, in denen Trump gewonnen hat und nicht:"
   ]
  },
  {
   "cell_type": "code",
   "execution_count": 94,
   "metadata": {},
   "outputs": [
    {
     "name": "stdout",
     "output_type": "stream",
     "text": [
      "486\n",
      "2626\n"
     ]
    }
   ],
   "source": [
    "print(df[df['trump_won'] == 0]['PST045214'].count())\n",
    "print(df[df['trump_won'] == 1]['PST045214'].count())"
   ]
  },
  {
   "cell_type": "markdown",
   "metadata": {},
   "source": [
    "Die Aufgabe ist nicht ausgewogen, aber wir werden unser Bestes tun."
   ]
  },
  {
   "cell_type": "markdown",
   "metadata": {},
   "source": [
    "Wir teilen unseren Rahmen in zwei Bereiche auf: Merkmale (features) und Ziel (target). Danach müssen wir die in Train- und Testsplits aufteilen:"
   ]
  },
  {
   "cell_type": "code",
   "execution_count": 95,
   "metadata": {},
   "outputs": [],
   "source": [
    "from sklearn.model_selection import train_test_split\n",
    "\n",
    "features = df.drop(pres_results.columns, axis = 1)\n",
    "target = df.drop(county_facts_clean.columns, axis = 1)\n",
    "\n",
    "X_train, X_test, y_train, y_test = train_test_split(features,\n",
    "                                                    target,test_size=0.33,\n",
    "                                                    random_state = 42)"
   ]
  },
  {
   "cell_type": "markdown",
   "metadata": {},
   "source": [
    "Sehen wir uns das Verhältnis der Landkreisen von Klasse 0 noch an:"
   ]
  },
  {
   "cell_type": "code",
   "execution_count": 68,
   "metadata": {},
   "outputs": [
    {
     "name": "stdout",
     "output_type": "stream",
     "text": [
      "trump_won    333\n",
      "dtype: int64\n",
      "trump_won    153\n",
      "dtype: int64\n"
     ]
    }
   ],
   "source": [
    "print(y_train[y_train['trump_won'] == 0].count())\n",
    "print(y_test[y_test['trump_won'] == 0].count())"
   ]
  },
  {
   "cell_type": "markdown",
   "metadata": {},
   "source": [
    "Sie sind auch fast im Verhältnis 7:3 geteilt."
   ]
  },
  {
   "cell_type": "markdown",
   "metadata": {},
   "source": [
    "Dann nehmen wir die Gewichte der Eingabevariablen heraus. Je größes Gewicht die Variable hat, desto wichtiger (mehr korreliert) ist sie für die Klassifikation."
   ]
  },
  {
   "cell_type": "markdown",
   "metadata": {},
   "source": [
    "Lass uns zunächst sehr beliebten RandomForestClassifier (Menge der Entscheidungsbaeumen) überprüfen. Wir werden auch Hyperparametertuning (Suche der besten Parameter für einen Algorithmus) mit GridSearchCV durchführen. RandomForestClassifier hat zwei Parameter, die wir tunen können: Anzahl der Schätzer (Bäume) und die minimale Anzahl der Samples, die für die Aufteilung eines internen Knotens erforderlich sind. "
   ]
  },
  {
   "cell_type": "code",
   "execution_count": 44,
   "metadata": {},
   "outputs": [
    {
     "name": "stdout",
     "output_type": "stream",
     "text": [
      "[ 0.91366906  0.92230216  0.92565947  0.92613909  0.92997602  0.92853717\n",
      "  0.92997602  0.93045564  0.92038369  0.92470024  0.92805755  0.93045564\n",
      "  0.9323741   0.93429257  0.93477218  0.93429257  0.92326139  0.92853717\n",
      "  0.92997602  0.93189448  0.93141487  0.93093525  0.93189448  0.93141487\n",
      "  0.92230216  0.93189448  0.93093525  0.93141487  0.92997602  0.92997602\n",
      "  0.92997602  0.9294964   0.92422062  0.92757794  0.93189448  0.92901679\n",
      "  0.93093525  0.92997602  0.9323741   0.93189448  0.92470024  0.92661871\n",
      "  0.92661871  0.92901679  0.9294964   0.92997602  0.92805755  0.9294964\n",
      "  0.91990408  0.92613909  0.92805755  0.92709832  0.93093525  0.93093525\n",
      "  0.93093525  0.93141487  0.92230216  0.92997602  0.92997602  0.9323741\n",
      "  0.9323741   0.92997602  0.93045564  0.93045564]\n"
     ]
    }
   ],
   "source": [
    "from sklearn.model_selection import GridSearchCV\n",
    "from sklearn.metrics import f1_score\n",
    "from sklearn.ensemble import RandomForestClassifier\n",
    "\n",
    "# Initialisierung des Klassifikators. Mit dem Parameter' random_state'\n",
    "#können wir die gleichen Berechnungen später wiederholen\n",
    "rfc = RandomForestClassifier(random_state = 42)\n",
    "# Das Raster der Parameter, die wir optimieren wollen\n",
    "parameters = {'n_estimators': np.arange(10, 50, 5),\n",
    "              'min_samples_split': np.arange(2, 10, 1)}\n",
    "# wir verwenden GridSearchCV als Wrapper für unseren Klassifikator\n",
    "cls = GridSearchCV(rfc, parameters)\n",
    "# Modellausstattung mit Trainingdaten\n",
    "cls.fit(X_train, y_train[\"trump_won\"])\n",
    "# Trainingsergebnisse drucken\n",
    "print(cls.cv_results_[\"mean_test_score\"])"
   ]
  },
  {
   "cell_type": "markdown",
   "metadata": {},
   "source": [
    "Also machen wir Vorhersagen auf dem Testsatz und überprüfen das f1-Score: (2 x precision x recall) / (precision + recall), wo precision = TP / (TP + FP); recall = TP / (TP + FN)."
   ]
  },
  {
   "cell_type": "code",
   "execution_count": 55,
   "metadata": {},
   "outputs": [
    {
     "name": "stdout",
     "output_type": "stream",
     "text": [
      "0.968696642003\n"
     ]
    }
   ],
   "source": [
    "predictions = cls.predict(X_test)\n",
    "print(f1_score(y_test, predictions))"
   ]
  },
  {
   "cell_type": "markdown",
   "metadata": {},
   "source": [
    "Unser Algorithmus hat f1-Ergebnis ~0.97. Mal sehen, ob wir es besser machen können. Wir können einen einfacheren KNeighborsClassifier ausprobieren. Er vergibt ein Klassenlabel basierend auf benachbarten Instanzen. Die Parameter, die wir optimieren können, sind:\n",
    "1. Eine Reihe von Nachbarn zu überprüfen.\n",
    "2. Ein Algorithmus:' brute' wird eine Brute-Force-Suche verwenden;' ball_tree' wird BallTree (1) verwenden;' kd_tree' wird KDTree (2) verwenden;' auto' wird versuchen, den am besten geeigneten Algorithmus basierend auf den an die Methode angepassten Werten zu bestimmen.\n",
    "\n",
    "(1) Ein Kugelbaum ist ein binärer Baum, in dem jeder Knoten eine D-dimensionale Hypersphäre oder Kugel definiert, die eine Teilmenge der zu durchsuchenden Punkte enthält.\n",
    "\n",
    "(2) Ein k-d-Baum ist ein unbalancierter Suchbaum zur Speicherung von Punkten aus dem D-Demension"
   ]
  },
  {
   "cell_type": "code",
   "execution_count": 21,
   "metadata": {
    "scrolled": true
   },
   "outputs": [
    {
     "name": "stdout",
     "output_type": "stream",
     "text": [
      "[ 0.85851319  0.86378897  0.86858513  0.86906475  0.86570743  0.86570743\n",
      "  0.8647482   0.86618705  0.86810552  0.85851319  0.86378897  0.86858513\n",
      "  0.86906475  0.86570743  0.86570743  0.8647482   0.86618705  0.86810552\n",
      "  0.85851319  0.86378897  0.86858513  0.86906475  0.86570743  0.86570743\n",
      "  0.8647482   0.86618705  0.86810552  0.85851319  0.86378897  0.86858513\n",
      "  0.86906475  0.86570743  0.86570743  0.8647482   0.86618705  0.86810552]\n"
     ]
    }
   ],
   "source": [
    "from sklearn.neighbors import KNeighborsClassifier\n",
    "\n",
    "knc = KNeighborsClassifier()\n",
    "\n",
    "parameters = {'n_neighbors': np.arange(5, 50, 5),\n",
    "              'algorithm': ['auto', 'ball_tree', 'kd_tree', 'brute']}\n",
    "\n",
    "cls2 = GridSearchCV(knc, parameters)\n",
    "\n",
    "cls2.fit(X_train, y_train[\"trump_won\"])\n",
    "\n",
    "print(cls2.cv_results_[\"mean_test_score\"])"
   ]
  },
  {
   "cell_type": "code",
   "execution_count": 22,
   "metadata": {
    "scrolled": true
   },
   "outputs": [
    {
     "name": "stdout",
     "output_type": "stream",
     "text": [
      "0.929501084599\n"
     ]
    }
   ],
   "source": [
    "predictions2 = cls2.predict(X_test)\n",
    "print(f1_score(y_test, predictions2))"
   ]
  },
  {
   "cell_type": "markdown",
   "metadata": {},
   "source": [
    "Der Klassifikator hat schlechtere Ergebnisse als der Erste. Überprüfen wir den AdaBoostClassifier. AdaBoostClassifier ist ein Meta-Schätzer, der mit dem Einpassen eines Klassifikators auf den ursprünglichen Datensatz beginnt und dann zusätzliche Kopien des Klassifikators auf den gleichen Datensatz anlegt, wobei die Gewichte falsch klassifizierter Instanzen so angepasst werden, dass nachfolgende Klassifikatoren sich mehr auf schwierige Fälle konzentrieren. AdaBoostClassifier verwendet auch Entscheidungsbäume. AdaBoostClassifier hat zwei Parameter, die wir tunen können: Anzahl der Schätzer (Bäume) und das Lerntempo, das den Beitrag jedes Klassifikators schrumpft."
   ]
  },
  {
   "cell_type": "code",
   "execution_count": 23,
   "metadata": {
    "scrolled": true
   },
   "outputs": [
    {
     "name": "stdout",
     "output_type": "stream",
     "text": [
      "[ 0.93189448  0.93333333  0.93141487  0.93333333  0.9352518   0.9381295\n",
      "  0.93093525  0.93477218  0.93573141  0.93573141  0.93956835  0.93429257\n",
      "  0.93477218  0.93573141  0.9352518   0.93141487  0.92757794  0.92997602\n",
      "  0.93333333  0.93285372  0.93189448  0.93189448  0.92805755  0.9294964\n",
      "  0.93093525  0.92901679  0.93045564  0.92901679  0.92470024  0.92901679\n",
      "  0.93381295  0.92853717  0.9323741   0.9323741   0.9323741   0.93477218\n",
      "  0.93333333  0.93285372  0.93381295  0.93093525  0.92757794  0.92757794\n",
      "  0.92661871  0.92182254  0.91990408  0.92997602  0.92997602  0.92853717\n",
      "  0.92709832  0.92565947]\n"
     ]
    }
   ],
   "source": [
    "from sklearn.ensemble import AdaBoostClassifier\n",
    "\n",
    "\n",
    "abc = AdaBoostClassifier(random_state = 42)\n",
    "\n",
    "parameters = {'n_estimators': np.arange(50, 100, 10),\n",
    "              'learning_rate': np.arange(0.5, 1.5, 0.1)}\n",
    "\n",
    "cls3 = GridSearchCV(abc, parameters)\n",
    "\n",
    "cls3.fit(X_train, y_train[\"trump_won\"])\n",
    "\n",
    "print(cls3.cv_results_[\"mean_test_score\"])"
   ]
  },
  {
   "cell_type": "code",
   "execution_count": 96,
   "metadata": {
    "scrolled": true
   },
   "outputs": [
    {
     "name": "stdout",
     "output_type": "stream",
     "text": [
      "0.968\n"
     ]
    }
   ],
   "source": [
    "predictions3 = cls3.predict(X_test)\n",
    "print(f1_score(y_test, predictions3))"
   ]
  },
  {
   "cell_type": "markdown",
   "metadata": {},
   "source": [
    "Der Klassifikator hat dasselbe Ergebnisse als der Erste. Dann können wir GradientBoostingClassifier überprüfen. GradientBoostingClassifier baut ein additives Modell vorwärts gerichtet auf und ermöglicht die Optimierung beliebiger differenzierbarer Verlustfunktionen. In jedem Stadium werden n_classes_ Regressionsbäume auf den negativen Gradienten der binomialen oder multinomialen Deviation-Loss-Funktion angepasst. Die binäre Klassifikation (unser Fall) ist ein Sonderfall, bei dem nur ein einziger Regressionsbaum induziert wird. Der hat drei Parameter zur Feineinstellung: n_estimators, learning_rate, min_samples_split (siehe oben)."
   ]
  },
  {
   "cell_type": "code",
   "execution_count": 45,
   "metadata": {
    "scrolled": true
   },
   "outputs": [
    {
     "name": "stdout",
     "output_type": "stream",
     "text": [
      "[ 0.93141487  0.92853717  0.93093525  0.9323741   0.93093525  0.93621103\n",
      "  0.93429257  0.93621103  0.93573141  0.9323741   0.93333333  0.93429257\n",
      "  0.9323741   0.9323741   0.93285372  0.93477218  0.9323741   0.93141487\n",
      "  0.93429257  0.93333333  0.93285372  0.93141487  0.93333333  0.9323741\n",
      "  0.93429257  0.93093525  0.93285372  0.93381295  0.9352518   0.93860911\n",
      "  0.93333333  0.9323741   0.93141487  0.93141487  0.93764988  0.93381295\n",
      "  0.93573141  0.9352518   0.93669065  0.93285372  0.92805755  0.93381295\n",
      "  0.93477218  0.9323741   0.93333333  0.92613909  0.92805755  0.92853717\n",
      "  0.93141487  0.9323741   0.93045564  0.93093525  0.93381295  0.93189448\n",
      "  0.93189448  0.92853717  0.92613909  0.92757794  0.92709832  0.93093525\n",
      "  0.9323741   0.9323741   0.93285372  0.93285372  0.93333333  0.92661871\n",
      "  0.93093525  0.93189448  0.93381295  0.93189448  0.93141487  0.9323741\n",
      "  0.93381295  0.93477218  0.93141487  0.93045564  0.9294964   0.93189448\n",
      "  0.93381295  0.93573141  0.91798561  0.92086331  0.91942446  0.92086331\n",
      "  0.92038369  0.92134293  0.92278177  0.92374101  0.92517986  0.92470024\n",
      "  0.92086331  0.92182254  0.92182254  0.92470024  0.92757794  0.92326139\n",
      "  0.92709832  0.9294964   0.92805755  0.93141487  0.92470024  0.92326139\n",
      "  0.92565947  0.92230216  0.92470024  0.92757794  0.9294964   0.92997602\n",
      "  0.93045564  0.92997602  0.92422062  0.92470024  0.92757794  0.92853717\n",
      "  0.9294964   0.92853717  0.92757794  0.92853717  0.92805755  0.92853717\n",
      "  0.92230216  0.92278177  0.92709832  0.92805755  0.92805755  0.92613909\n",
      "  0.92613909  0.92901679  0.9294964   0.93045564  0.92853717  0.92853717\n",
      "  0.92805755  0.93093525  0.93333333  0.92805755  0.9294964   0.92997602\n",
      "  0.93045564  0.93045564  0.92326139  0.92661871  0.92901679  0.93045564\n",
      "  0.93285372  0.92470024  0.92278177  0.92374101  0.92374101  0.92374101\n",
      "  0.92565947  0.92613909  0.92805755  0.92709832  0.9294964   0.92757794\n",
      "  0.92901679  0.92805755  0.92997602  0.92901679  0.92565947  0.92470024\n",
      "  0.92613909  0.92517986  0.92613909  0.92134293  0.92134293  0.91798561\n",
      "  0.92134293  0.92086331  0.92086331  0.91846523  0.91990408  0.92038369\n",
      "  0.92230216  0.917506    0.92086331  0.91942446  0.91558753  0.91894484\n",
      "  0.91942446  0.91990408  0.92086331  0.92230216  0.92374101  0.92470024\n",
      "  0.92565947  0.92517986  0.92613909  0.92326139  0.92278177  0.92134293\n",
      "  0.92422062  0.92326139  0.92230216  0.92278177  0.91990408  0.92230216\n",
      "  0.92374101  0.92326139  0.91942446  0.92230216  0.92134293  0.92230216\n",
      "  0.92230216  0.92613909  0.92661871  0.92613909  0.92805755  0.92709832\n",
      "  0.92134293  0.92086331  0.92134293  0.92134293  0.92326139  0.92182254\n",
      "  0.92326139  0.92470024  0.92517986  0.92278177  0.92038369  0.92086331\n",
      "  0.92422062  0.92470024  0.92517986  0.92661871  0.92853717  0.92661871\n",
      "  0.92853717  0.92997602  0.92134293  0.92565947  0.92374101  0.92661871\n",
      "  0.92661871  0.92134293  0.92422062  0.92470024  0.92613909  0.92805755\n",
      "  0.92182254  0.92182254  0.92230216  0.92422062  0.92326139  0.92038369\n",
      "  0.92182254  0.92182254  0.92278177  0.91990408  0.92086331  0.92374101\n",
      "  0.92182254  0.92134293  0.92086331  0.92326139  0.92374101  0.92230216\n",
      "  0.92517986  0.92709832  0.92374101  0.92661871  0.92278177  0.92613909\n",
      "  0.92661871  0.91942446  0.92038369  0.92182254  0.92182254  0.92182254\n",
      "  0.91990408  0.92086331  0.92182254  0.92230216  0.92230216  0.91990408\n",
      "  0.92086331  0.92182254  0.92182254  0.92182254  0.92326139  0.92374101\n",
      "  0.92086331  0.92086331  0.92086331  0.92182254  0.92038369  0.92038369\n",
      "  0.91990408  0.91990408  0.91702638  0.91798561  0.91894484  0.91990408\n",
      "  0.91894484  0.92134293  0.92422062  0.92470024  0.92565947  0.92565947\n",
      "  0.91798561  0.91558753  0.91558753  0.91558753  0.91606715  0.91702638\n",
      "  0.91798561  0.91654676  0.91942446  0.91894484  0.91318945  0.91606715\n",
      "  0.91846523  0.91702638  0.91798561  0.91318945  0.91270983  0.91510791\n",
      "  0.91366906  0.91366906  0.90983213  0.91127098  0.91318945  0.91318945\n",
      "  0.91318945  0.90839329  0.91270983  0.91223022  0.91270983  0.91270983\n",
      "  0.91127098  0.91223022  0.91702638  0.91414868  0.91366906  0.9146283\n",
      "  0.91510791  0.91798561  0.91942446  0.91942446  0.91223022  0.9146283\n",
      "  0.91798561  0.91894484  0.91894484  0.91223022  0.91270983  0.91606715\n",
      "  0.91606715  0.91606715  0.91127098  0.91031175  0.91318945  0.91318945\n",
      "  0.91270983  0.90983213  0.91270983  0.91414868  0.91510791  0.91414868\n",
      "  0.90743405  0.90791367  0.90791367  0.90839329  0.90839329  0.90647482\n",
      "  0.90743405  0.90839329  0.90695444  0.90791367  0.91558753  0.9146283\n",
      "  0.91558753  0.917506    0.91798561  0.91510791  0.9117506   0.9117506\n",
      "  0.91223022  0.91270983  0.91366906  0.91031175  0.9117506   0.91223022\n",
      "  0.91270983  0.91414868  0.91079137  0.91223022  0.91031175  0.9117506\n",
      "  0.91414868  0.91079137  0.91223022  0.91031175  0.9117506   0.91223022\n",
      "  0.91031175  0.91031175  0.91031175  0.90983213]\n"
     ]
    }
   ],
   "source": [
    "from sklearn.ensemble import GradientBoostingClassifier\n",
    "\n",
    "\n",
    "gbc = GradientBoostingClassifier(random_state = 42)\n",
    "\n",
    "parameters = {'n_estimators': np.arange(50, 100, 10),\n",
    "              'learning_rate': np.arange(0.5, 1.5, 0.1),\n",
    "              'min_samples_split': np.arange(2, 10, 1)}\n",
    "\n",
    "cls4 = GridSearchCV(gbc, parameters)\n",
    "\n",
    "cls4.fit(X_train, y_train[\"trump_won\"])\n",
    "\n",
    "print(cls4.cv_results_[\"mean_test_score\"])"
   ]
  },
  {
   "cell_type": "code",
   "execution_count": 48,
   "metadata": {
    "scrolled": true
   },
   "outputs": [
    {
     "name": "stdout",
     "output_type": "stream",
     "text": [
      "0.9669327252\n"
     ]
    }
   ],
   "source": [
    "predictions4 = cls4.predict(X_test)\n",
    "print(f1_score(y_test, predictions4))"
   ]
  },
  {
   "cell_type": "markdown",
   "metadata": {},
   "source": [
    "Der erste Klassifikator scheint keinen Konkurrenten zu haben. Zuletzt wird der MLPC-Klassierer (Multilayer Perzeptron Classifier) überprüft. Er ist eine Art neuronales Netz und hat folgende Parameter, um zu optimieren:\n",
    "\n",
    "1. 'alpha' — L2-Strafe (Regularizer).\n",
    "2. 'learning_rate' — 'constant' oder 'adaptive' (1).\n",
    "3. 'solver' — Der Löser zur Gewichtsoptimierung.\n",
    "4. 'hidden_layer_sizes' — der stellt die Anzahl der Neuronen in jeder ausgeblendeten Schicht dar.\n",
    "\n",
    "(1) Es hält die Lernrate auf \"learning_rate_init\" konstant, solange der Trainingsverlust sinkt. Jedes Mal, wenn zwei aufeinanderfolgende Epochen den Trainingsverlust nicht um mindestens die Optimierungstoleranz verringern oder den Validierungswert nicht um mindestens die Optimierungstoleranz erhöhen, wenn \"early_stopping\" eingeschaltet ist, wird die aktuelle Lernrate durch 5 geteilt.)."
   ]
  },
  {
   "cell_type": "code",
   "execution_count": 118,
   "metadata": {
    "scrolled": true
   },
   "outputs": [
    {
     "name": "stdout",
     "output_type": "stream",
     "text": [
      "[ 0.641247    0.841247    0.74724221  0.641247    0.841247    0.74724221\n",
      "  0.76546763  0.841247    0.82925659  0.76546763  0.841247    0.82925659\n",
      "  0.3558753   0.84076739  0.81582734  0.3558753   0.84076739  0.81582734\n",
      "  0.52374101  0.84076739  0.73093525  0.52374101  0.84076739  0.73093525\n",
      "  0.641247    0.841247    0.74724221  0.641247    0.841247    0.74724221\n",
      "  0.76546763  0.841247    0.82829736  0.76546763  0.841247    0.82829736\n",
      "  0.3558753   0.84076739  0.78705036  0.3558753   0.84076739  0.78705036\n",
      "  0.52374101  0.84076739  0.70503597  0.52374101  0.84076739  0.70503597\n",
      "  0.641247    0.841247    0.77314149  0.641247    0.841247    0.77314149\n",
      "  0.76546763  0.841247    0.82733813  0.76546763  0.841247    0.82733813\n",
      "  0.3558753   0.84076739  0.81342926  0.3558753   0.84076739  0.81342926\n",
      "  0.52374101  0.84076739  0.78752998  0.52374101  0.84076739  0.78752998\n",
      "  0.641247    0.841247    0.77122302  0.641247    0.841247    0.77122302\n",
      "  0.76546763  0.841247    0.81678657  0.76546763  0.841247    0.81678657\n",
      "  0.3558753   0.84076739  0.80815348  0.3558753   0.84076739  0.80815348\n",
      "  0.52374101  0.84076739  0.83261391  0.52374101  0.84076739  0.83261391]\n"
     ]
    }
   ],
   "source": [
    "from sklearn.neural_network import MLPClassifier\n",
    "\n",
    "\n",
    "mlpc = MLPClassifier(random_state = 42)\n",
    "\n",
    "parameters = {'alpha': [0.0001, 0.001, 0.01, 0.1],\n",
    "              'learning_rate': ['constant', 'adaptive'],\n",
    "              'solver': ['lbfgs', 'sgd', 'adam'],\n",
    "              'hidden_layer_sizes': [(100,), (1000,), (100,100), (1000,1000)]}\n",
    "\n",
    "cls5 = GridSearchCV(mlpc, parameters)\n",
    "\n",
    "cls5.fit(X_train, y_train[\"trump_won\"])\n",
    "\n",
    "print(cls5.cv_results_[\"mean_test_score\"])"
   ]
  },
  {
   "cell_type": "code",
   "execution_count": 119,
   "metadata": {},
   "outputs": [
    {
     "name": "stdout",
     "output_type": "stream",
     "text": [
      "0.920316622691\n"
     ]
    }
   ],
   "source": [
    "predictions5 = cls5.predict(X_test)\n",
    "print(f1_score(y_test, predictions5))"
   ]
  },
  {
   "cell_type": "markdown",
   "metadata": {},
   "source": [
    "Keiner der Klassifikatoren hat den RandomForestClassifier überwunden. Aber vielleicht wird es besser, den Sieg von Trump für jede Landkreis zu vergeben?"
   ]
  },
  {
   "cell_type": "code",
   "execution_count": 59,
   "metadata": {
    "scrolled": false
   },
   "outputs": [
    {
     "name": "stdout",
     "output_type": "stream",
     "text": [
      "0.919516044187\n"
     ]
    }
   ],
   "source": [
    "fake_predictions = np.ones(predictions.shape)\n",
    "print(f1_score(y_test, fake_predictions))"
   ]
  },
  {
   "cell_type": "markdown",
   "metadata": {},
   "source": [
    "Das Ergebnis ist schlechter, aber nicht viel schlechter."
   ]
  },
  {
   "cell_type": "markdown",
   "metadata": {},
   "source": [
    "Schauen wir uns das Ergebnis der Klassifizierung genauer an."
   ]
  },
  {
   "cell_type": "code",
   "execution_count": 54,
   "metadata": {},
   "outputs": [
    {
     "name": "stdout",
     "output_type": "stream",
     "text": [
      "             precision    recall  f1-score   support\n",
      "\n",
      " Trump lost       0.84      0.79      0.81       153\n",
      "  Trump won       0.96      0.97      0.97       874\n",
      "\n",
      "avg / total       0.95      0.95      0.95      1027\n",
      "\n"
     ]
    }
   ],
   "source": [
    "from sklearn.metrics import classification_report\n",
    "\n",
    "target_names = ['Trump lost', 'Trump won']\n",
    "print(classification_report(y_test, predictions, target_names=target_names))"
   ]
  },
  {
   "cell_type": "markdown",
   "metadata": {},
   "source": [
    "Die Genauigkeit in der Klasse 0 (Trump hat verloren) ist viel kleiner als in der Klasse 1 (Trump hat gewonnen). Es geschieht, weil die Klassen nicht ausgeglichen sind, haben wir weniger Beispiele für seine Niederlage. Trotzdem sind die Ergebnisse nicht schlecht."
   ]
  },
  {
   "cell_type": "markdown",
   "metadata": {},
   "source": [
    "Als nächstes überprüfen wir die Importwerte der Merkmalen:"
   ]
  },
  {
   "cell_type": "code",
   "execution_count": 18,
   "metadata": {},
   "outputs": [
    {
     "name": "stdout",
     "output_type": "stream",
     "text": [
      "[ 0.01316113  0.007436    0.00932391  0.01747339  0.01233124  0.0170514\n",
      "  0.00795777  0.00793931  0.08139678  0.05059575  0.00849444  0.01977642\n",
      "  0.00273796  0.00921944  0.01985473  0.0978463   0.01107737  0.01218805\n",
      "  0.01725632  0.01231555  0.05711583  0.00627506  0.0090577   0.01683615\n",
      "  0.02593444  0.04400118  0.03750532  0.01321546  0.01493427  0.00960399\n",
      "  0.01364165  0.0228313   0.02254996  0.03632903  0.00669436  0.02121852\n",
      "  0.01083342  0.01890404  0.00529295  0.01263846  0.00160237  0.01009489\n",
      "  0.01884705  0.00800651  0.0057925   0.0161497   0.00691778  0.0436535\n",
      "  0.00775931  0.01131954  0.02901048]\n",
      "15\n",
      "RHI825214\n"
     ]
    }
   ],
   "source": [
    "print(cls.best_estimator_.feature_importances_)\n",
    "index_max = cls.best_estimator_.feature_importances_.argmax()\n",
    "most_important = df.columns[index_max]\n",
    "print(index_max)\n",
    "print(most_important)\n",
    "\n",
    "Die wichtigste Variable is die 9. mit dem Gewicht ~ 0.1. Die Variable ist der Prozentsatz von ledigen weissen Amerikaner."
   ]
  },
  {
   "cell_type": "markdown",
   "metadata": {},
   "source": [
    "Das wichtigste Feature ist das 16. mit dem Gewicht von ~0,09. Die Korrelation ist sehr schwach, so dass das Merkmal selbst unsere Klassifikation nicht erklären kann. Schauen wir mal, was dieses Feature bedeutet: "
   ]
  },
  {
   "cell_type": "code",
   "execution_count": 101,
   "metadata": {},
   "outputs": [
    {
     "name": "stdout",
     "output_type": "stream",
     "text": [
      "15    White alone, not Hispanic or Latino, percent, ...\n",
      "Name: description, dtype: object\n"
     ]
    }
   ],
   "source": [
    "definition = pd.read_csv(\"2016-us-election/county_facts_dictionary.csv\")\n",
    "mid = definition[definition['column_name'] == most_important]\n",
    "      ['description']\n",
    "print(mid)"
   ]
  },
  {
   "cell_type": "markdown",
   "metadata": {},
   "source": [
    "Das Feature zeigt den Prozentsatz von ledigen weißen Amerikaner (ohne lateinamerikanische Herkunft)."
   ]
  },
  {
   "cell_type": "code",
   "execution_count": 15,
   "metadata": {
    "collapsed": true
   },
   "outputs": [],
   "source": [
    "import seaborn as sns\n",
    "import matplotlib.pyplot as plt"
   ]
  },
  {
   "cell_type": "code",
   "execution_count": 19,
   "metadata": {},
   "outputs": [
    {
     "data": {
      "image/png": "[encoded data removed]",
      "text/plain": [
       "<matplotlib.figure.Figure at 0x11824bdd8>"
      ]
     },
     "metadata": {},
     "output_type": "display_data"
    }
   ],
   "source": [
    "fif = sns.regplot(x=most_important, y=\"trump_won\", data=df,\n",
    "            label='Most important feature')\n",
    "fif.set(xlabel=mid, ylabel='Trump won')\n",
    "plt.show()"
   ]
  },
  {
   "cell_type": "markdown",
   "metadata": {},
   "source": [
    "Hier ist das 2. wichtigste Feature: der Prozentsatz von ledigen weissen Amerikaner."
   ]
  },
  {
   "cell_type": "code",
   "execution_count": 102,
   "metadata": {},
   "outputs": [
    {
     "name": "stdout",
     "output_type": "stream",
     "text": [
      "8    White alone, percent, 2014\n",
      "Name: description, dtype: object\n"
     ]
    },
    {
     "data": {
      "image/png": "[encoded data removed]",
      "text/plain": [
       "<matplotlib.figure.Figure at 0x11dde4c18>"
      ]
     },
     "metadata": {},
     "output_type": "display_data"
    }
   ],
   "source": [
    "second_important = df.columns[8]\n",
    "sid = definition[definition['column_name'] == second_important]\n",
    "      ['description']\n",
    "print(sid)\n",
    "sns.regplot(x=second_important, y=\"trump_won\", data=df\n",
    "            , label='Second important feature')\n",
    "fif.set(xlabel=sid, ylabel='Trump won')\n",
    "plt.show()"
   ]
  },
  {
   "cell_type": "markdown",
   "metadata": {},
   "source": [
    "Wie wir sehen können, gibt es kein bestimmtes Feature, das das Ergebnis von Trump erklären kann. Aber die Kombination von Merkmalen kann eine gute Klassifizierung ermöglichen, weil jedes seinen Beitrag leistet."
   ]
  },
  {
   "cell_type": "markdown",
   "metadata": {},
   "source": [
    "So die Autoren von \"South Park\" sind bereits zufrieden mit unserem Ergebnis, aber der Präsident von Frankreich ist nicht. Er fragt, ob wir für unsere Schätzung ein 95%-Konfidenzintervall aufbauen können. Also zurück an die Arbeit. Wir werden eine Kreuzvalidierung für unseren besten Klassifikator durchführen. Damit können wir die unvoreingenommene Schätzung auf den gesamten markierten Datensatz berechnen. Wir verwenden f1-Score für die Kreuzvalidierung."
   ]
  },
  {
   "cell_type": "code",
   "execution_count": 111,
   "metadata": {},
   "outputs": [
    {
     "name": "stdout",
     "output_type": "stream",
     "text": [
      "[ 0.94509804  0.95895522  0.98484848  0.96641791  0.97185741  0.95274102\n",
      "  0.96045198  0.971537    0.95038168  0.94972067]\n"
     ]
    }
   ],
   "source": [
    "from sklearn.model_selection import cross_val_score\n",
    "\n",
    "scores = cross_val_score(cls, features, target['trump_won'], cv=10,\n",
    "                         scoring='f1')\n",
    "print(scores)"
   ]
  },
  {
   "cell_type": "code",
   "execution_count": 120,
   "metadata": {},
   "outputs": [
    {
     "name": "stdout",
     "output_type": "stream",
     "text": [
      "Genauigkeit: 0.961 (+/- 0.024)\n"
     ]
    }
   ],
   "source": [
    "print(\"Genauigkeit: %0.3f (+/- %0.3f)\" % (scores.mean(), scores.std() * 2))"
   ]
  },
  {
   "cell_type": "markdown",
   "metadata": {},
   "source": [
    "Jetzt müssen wir einen Dataframe vorbereiten, um unsere Vorhersage auf nicht markierten Datensätzen zu machen"
   ]
  },
  {
   "cell_type": "code",
   "execution_count": 114,
   "metadata": {},
   "outputs": [
    {
     "name": "stdout",
     "output_type": "stream",
     "text": [
      "<class 'pandas.core.frame.DataFrame'>\n",
      "Int64Index: 32 entries, 2013 to 51515\n",
      "Data columns (total 51 columns):\n",
      "PST045214    32 non-null int64\n",
      "PST040210    32 non-null int64\n",
      "PST120214    32 non-null float64\n",
      "POP010210    32 non-null int64\n",
      "AGE135214    32 non-null float64\n",
      "AGE295214    32 non-null float64\n",
      "AGE775214    32 non-null float64\n",
      "SEX255214    32 non-null float64\n",
      "RHI125214    32 non-null float64\n",
      "RHI225214    32 non-null float64\n",
      "RHI325214    32 non-null float64\n",
      "RHI425214    32 non-null float64\n",
      "RHI525214    32 non-null float64\n",
      "RHI625214    32 non-null float64\n",
      "RHI725214    32 non-null float64\n",
      "RHI825214    32 non-null float64\n",
      "POP715213    32 non-null float64\n",
      "POP645213    32 non-null float64\n",
      "POP815213    32 non-null float64\n",
      "EDU635213    32 non-null float64\n",
      "EDU685213    32 non-null float64\n",
      "VET605213    32 non-null int64\n",
      "LFE305213    32 non-null float64\n",
      "HSG010214    32 non-null int64\n",
      "HSG445213    32 non-null float64\n",
      "HSG096213    32 non-null float64\n",
      "HSG495213    32 non-null int64\n",
      "HSD410213    32 non-null int64\n",
      "HSD310213    32 non-null float64\n",
      "INC910213    32 non-null int64\n",
      "INC110213    32 non-null int64\n",
      "PVY020213    32 non-null float64\n",
      "BZA010213    32 non-null int64\n",
      "BZA110213    32 non-null int64\n",
      "BZA115213    32 non-null float64\n",
      "NES010213    32 non-null int64\n",
      "SBO001207    32 non-null int64\n",
      "SBO315207    32 non-null float64\n",
      "SBO115207    32 non-null float64\n",
      "SBO215207    32 non-null float64\n",
      "SBO515207    32 non-null float64\n",
      "SBO415207    32 non-null float64\n",
      "SBO015207    32 non-null float64\n",
      "MAN450207    32 non-null int64\n",
      "WTN220207    32 non-null int64\n",
      "RTN130207    32 non-null int64\n",
      "RTN131207    32 non-null int64\n",
      "AFN120207    32 non-null int64\n",
      "BPS030214    32 non-null int64\n",
      "LND110210    32 non-null float64\n",
      "POP060210    32 non-null float64\n",
      "dtypes: float64(32), int64(19)\n",
      "memory usage: 13.0 KB\n",
      "None\n"
     ]
    }
   ],
   "source": [
    "df_pred = pd.merge(county_facts_clean, pres_results_unknown, how='inner',\n",
    "              left_index=True, right_index=True)\n",
    "df_pred.drop('lead', axis=1, inplace=True)\n",
    "print(df_pred.info())"
   ]
  },
  {
   "cell_type": "markdown",
   "metadata": {},
   "source": [
    "Es gibt nur Informationen über 32 Landkreise. Lassen wir unser Modell funktionieren:"
   ]
  },
  {
   "cell_type": "code",
   "execution_count": 116,
   "metadata": {},
   "outputs": [
    {
     "name": "stdout",
     "output_type": "stream",
     "text": [
      "[1 1 0 0 1 1 0 1 1 1 0 1 1 1 1 1 1 1 0 1 1 0 1 1 1 0 1 1 1 0 0 0]\n"
     ]
    }
   ],
   "source": [
    "results_pred = cls.predict(df_pred)\n",
    "print(results_pred)"
   ]
  },
  {
   "cell_type": "markdown",
   "metadata": {},
   "source": [
    "Wir müssen die Vorhersagen in csv-Datei schreiben."
   ]
  },
  {
   "cell_type": "code",
   "execution_count": 117,
   "metadata": {
    "collapsed": true
   },
   "outputs": [],
   "source": [
    "predictions_df = pd.DataFrame()\n",
    "predictions_df['fips'] = df_pred.index\n",
    "predictions_df['trump_win'] = results_pred\n",
    "predictions_df.to_csv('./result.csv', index=False)"
   ]
  },
  {
   "cell_type": "markdown",
   "metadata": {},
   "source": [
    "Dieses csv-Dokument mit dem Vertrauensintervall für die Genauigkeit kann an unsere Kunden geschickt werden."
   ]
  },
  {
   "cell_type": "markdown",
   "metadata": {},
   "source": [
    "#### Fazit: In unserem kleinen Wettbewerb hat der RandomForestClassifier gewonnen. Kein Wunder, er ist einfach, aber sehr leistungsfähig und populär Klassifikator, stabil zu redundanten und unskalierten Merkmalen."
   ]
  },
  {
   "cell_type": "markdown",
   "metadata": {},
   "source": [
    "Ideen zur weiteren Verbesserung:\n",
    "in RandomForestClassifier, wenn zwei Merkmale hochgradig korreliert sind (eines davon ist redundant), nimmt der Algorithmus eines davon (keine Präferenz). Die Bedeutung des zweiten Features wird dann reduziert. Es hat keinen Einfluss auf die Genauigkeit des Algorithmus, sondern verursacht ein Problem bei der Interpretation des Ergebnisses: das erste Feature wird als starker Prädiktor betrachtet, das andere als unwichtig, während es in Bezug auf seine Beziehung zum Ziel eigentlich sehr eng ist. Eine weitere Analyse von Merkmalsvariablen ist erforderlich."
   ]
  }
 ],
 "metadata": {
  "kernelspec": {
   "display_name": "Python 3",
   "language": "python",
   "name": "python3"
  },
  "language_info": {
   "codemirror_mode": {
    "name": "ipython",
    "version": 3
   },
   "file_extension": ".py",
   "mimetype": "text/x-python",
   "name": "python",
   "nbconvert_exporter": "python",
   "pygments_lexer": "ipython3",
   "version": "3.6.2"
  }
 },
 "nbformat": 4,
 "nbformat_minor": 2
}
